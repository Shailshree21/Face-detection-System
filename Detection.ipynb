{
 "cells": [
  {
   "cell_type": "code",
   "execution_count": 1,
   "id": "c1191621-9f3e-41d1-97e4-07bcf3e46ee4",
   "metadata": {},
   "outputs": [],
   "source": [
    "import cv2\n",
    "import numpy as np\n",
    "import face_recognition as fr"
   ]
  },
  {
   "cell_type": "code",
   "execution_count": 2,
   "id": "c3647610-7cd0-4963-861a-b29a1bd77aa1",
   "metadata": {},
   "outputs": [],
   "source": [
    "video_capture = cv2.VideoCapture(0)"
   ]
  },
  {
   "cell_type": "code",
   "execution_count": 3,
   "id": "18c50e2c-162c-4c3e-8ec4-1b538ba74d34",
   "metadata": {},
   "outputs": [],
   "source": [
    "image = fr.load_image_file('shree.jpg')"
   ]
  },
  {
   "cell_type": "code",
   "execution_count": 4,
   "id": "0b15e7ca-f2e1-4e9f-b433-197cb5e278d9",
   "metadata": {},
   "outputs": [],
   "source": [
    "image_face_encoding = fr.face_encodings(image)[0]"
   ]
  },
  {
   "cell_type": "code",
   "execution_count": 5,
   "id": "8195c86a-68fb-4ab6-acc3-8cc940b11e7f",
   "metadata": {},
   "outputs": [],
   "source": [
    "known_face_encodings = [image_face_encoding]"
   ]
  },
  {
   "cell_type": "code",
   "execution_count": 6,
   "id": "4b793f3a-2b89-4434-ac67-d5ee0f1f6ec4",
   "metadata": {},
   "outputs": [],
   "source": [
    "known_face_names = ['Shailshree']"
   ]
  },
  {
   "cell_type": "code",
   "execution_count": null,
   "id": "d5c14f1d-fff2-4cd1-ae20-3eae54282644",
   "metadata": {},
   "outputs": [],
   "source": [
    "while True:\n",
    "\n",
    "    ret, frame = video_capture.read()\n",
    "    rgb_frame = frame[:, :, ::1]\n",
    "    fc_locations = fr.face_locations(rgb_frame)\n",
    "    fc_encodings = fr.face_encodings(rgb_frame, fc_locations)\n",
    "    for(top, right, bottom, left), face_encoding in zip(fc_locations, fc_encodings):\n",
    "        matches = fr.compare_faces(known_face_encodings, face_encoding)\n",
    "        name = \"unkown\"\n",
    "        fc_distances = fr.face_distance(known_face_encodings, face_encoding)\n",
    "        match_index = np.argmin(fc_distances)\n",
    "        if matches[match_index]:\n",
    "            name = known_face_names[match_index]\n",
    "\n",
    "        cv2.rectangle(frame, (left, top), (right, bottom), (0,0,255),2)\n",
    "        \n",
    "        cv2.rectangle(frame, (left, bottom -35), (right, bottom), (0,0,255), cv2.FILLED)\n",
    "        \n",
    "        font = cv2.FONT_HERSHEY_SIMPLEX\n",
    "\n",
    "        cv2.putText(frame, name, (left +6, bottom - 6), font, 1.0, (255, 255, 255), 1)\n",
    "\n",
    "    cv2.imshow('Shailshree face detection system', frame)\n",
    "\n",
    "    if cv2.waitKey(1) & 0xFF == ord('q'):\n",
    "        break\n",
    "video_capture.release()\n",
    "cv2.destroyAllWindows()\n"
   ]
  }
 ],
 "metadata": {
  "kernelspec": {
   "display_name": "Python 3 (ipykernel)",
   "language": "python",
   "name": "python3"
  },
  "language_info": {
   "codemirror_mode": {
    "name": "ipython",
    "version": 3
   },
   "file_extension": ".py",
   "mimetype": "text/x-python",
   "name": "python",
   "nbconvert_exporter": "python",
   "pygments_lexer": "ipython3",
   "version": "3.12.2"
  }
 },
 "nbformat": 4,
 "nbformat_minor": 5
}
